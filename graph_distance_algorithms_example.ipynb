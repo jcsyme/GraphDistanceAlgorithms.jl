{
 "cells": [
  {
   "cell_type": "code",
   "execution_count": 24,
   "id": "d66d017d-6487-490b-8b6e-ab4af958fd8a",
   "metadata": {},
   "outputs": [],
   "source": [
    "\n",
    "using BenchmarkTools # included only for comparison\n",
    "using Distributed\n",
    "\n",
    "(nprocs() == 1) && addprocs(10) # spawn 10 cores if none are defined\n",
    "\n",
    "# load using everywhere macro to make sure cores can recognize objects\n",
    "@everywhere using Graphs\n",
    "@everywhere using GraphDistanceAlgorithms\n"
   ]
  },
  {
   "cell_type": "code",
   "execution_count": 58,
   "id": "24944d69-d341-480d-acf4-a9283908f87b",
   "metadata": {},
   "outputs": [
    {
     "data": {
      "text/plain": [
       "{5000, 12500} undirected simple Int64 graph"
      ]
     },
     "execution_count": 58,
     "metadata": {},
     "output_type": "execute_result"
    }
   ],
   "source": [
    "# generate a graph\n",
    "graph = Graphs.SimpleGraphs.random_regular_graph(5000, 5)"
   ]
  },
  {
   "cell_type": "code",
   "execution_count": 59,
   "id": "fc42d7c5-41d0-468b-aa32-4699ae385d58",
   "metadata": {
    "tags": []
   },
   "outputs": [
    {
     "data": {
      "text/plain": [
       "Dict{Symbol, DistributedArrays.DArray} with 6 entries:\n",
       "  :heap_data         => [0 0 … 0 0; 0 0 … 0 0; … ; 0 0 … 0 0; 0 0 … 0 0]\n",
       "  :parents           => [0 0 … 0 0; 0 0 … 0 0; … ; 0 0 … 0 0; 0 0 … 0 0]\n",
       "  :dists             => [0 0 … 0 0; 0 0 … 0 0; … ; 0 0 … 0 0; 0 0 … 0 0]\n",
       "  :heap_index        => [0 0 … 0 0; 0 0 … 0 0; … ; 0 0 … 0 0; 0 0 … 0 0]\n",
       "  :size              => [0 0 … 0 0]\n",
       "  :heap_index_lookup => [0 0 … 0 0; 0 0 … 0 0; … ; 0 0 … 0 0; 0 0 … 0 0]"
      ]
     },
     "execution_count": 59,
     "metadata": {},
     "output_type": "execute_result"
    }
   ],
   "source": [
    "# spawn arrays - distributed array is default (leave)\n",
    "dict_arrays = spawn_arrays(\n",
    "    graph,\n",
    "    :dijkstra_kary;\n",
    ")"
   ]
  },
  {
   "cell_type": "markdown",
   "id": "25773700-40b8-441c-97bf-642d1111a69e",
   "metadata": {},
   "source": [
    "# Compare serial and distributed approach\n",
    "- Simple functions that iterate over each source vertex and calculate a metric\n"
   ]
  },
  {
   "cell_type": "code",
   "execution_count": 60,
   "id": "a59888d2-02a5-4f14-8c6f-62aa08496657",
   "metadata": {},
   "outputs": [
    {
     "data": {
      "text/plain": [
       "dijkstra_distributed"
      ]
     },
     "execution_count": 60,
     "metadata": {},
     "output_type": "execute_result"
    }
   ],
   "source": [
    "\"\"\"\n",
    "First of two approaches to running Dijkstra: serial (from Graphs.jl)\n",
    "\"\"\"\n",
    "function dijkstra_serial(\n",
    "    graph::AbstractGraph,\n",
    ")\n",
    "    out = 0\n",
    "    n = nv(graph)\n",
    "    \n",
    "    for i in 1:n\n",
    "        cur = dijkstra_shortest_paths(\n",
    "            graph, \n",
    "            i\n",
    "        )\n",
    "        \n",
    "        cur = cur.dists\n",
    "\n",
    "        out += sum(1.0 ./ cur[cur .> 0])\n",
    "    end\n",
    "    \n",
    "    return out\n",
    "end\n",
    "\n",
    "\n",
    "\"\"\"\n",
    "Second of two approaches to running Dijkstra: distribute\n",
    "\"\"\"\n",
    "function dijkstra_distributed(\n",
    "    graph::AbstractGraph,\n",
    "    dict_arrays::Dict,\n",
    ")\n",
    "    n = nv(graph)\n",
    "    \n",
    "    out = @distributed (+) for i in 1:n\n",
    "        dijkstra_kary!(\n",
    "            dict_arrays[:dists][:L],\n",
    "            graph, \n",
    "            i; \n",
    "            parents = dict_arrays[:parents][:L],\n",
    "            heap_data = dict_arrays[:heap_data][:L],\n",
    "            heap_index = dict_arrays[:heap_index][:L],\n",
    "            heap_index_lookup = dict_arrays[:heap_index_lookup][:L],\n",
    "\n",
    "        )#.dists\n",
    "\n",
    "        sum(1.0 ./ dict_arrays[:dists][:L][dict_arrays[:dists][:L] .> 0])\n",
    "    end\n",
    "    \n",
    "    return out\n",
    "end"
   ]
  },
  {
   "cell_type": "markdown",
   "id": "8c421362-9b97-4087-b5cc-9f3d7bfe4e96",
   "metadata": {},
   "source": [
    "##  Precompile functions\n",
    "\n",
    "- Since it's Julia, run it once first to allow for compilation"
   ]
  },
  {
   "cell_type": "code",
   "execution_count": 61,
   "id": "06596bbf-2cf8-4e54-94d6-2cab9bcca558",
   "metadata": {},
   "outputs": [
    {
     "name": "stdout",
     "output_type": "stream",
     "text": [
      "  8.956889 seconds (434.18 k allocations: 3.614 GiB, 4.32% gc time, 2.66% compilation time)\n",
      "  2.633227 seconds (75.59 k allocations: 8.741 MiB, 0.91% compilation time)\n"
     ]
    },
    {
     "data": {
      "text/plain": [
       "4.430528995238097e6"
      ]
     },
     "execution_count": 61,
     "metadata": {},
     "output_type": "execute_result"
    }
   ],
   "source": [
    "# Run once to compile\n",
    "@time out_serial = dijkstra_serial(graph)\n",
    "@time out_parallel = dijkstra_distributed(\n",
    "    graph, \n",
    "    dict_arrays,\n",
    ")"
   ]
  },
  {
   "cell_type": "markdown",
   "id": "347ac263-c483-43fb-a7e7-1c5528b46e5a",
   "metadata": {},
   "source": [
    "##  Now run benchmarks\n",
    "\n",
    "- Looking at bhat relative performance of the distribtued algorithm will improve in larger graphs + with more processors"
   ]
  },
  {
   "cell_type": "code",
   "execution_count": 62,
   "id": "6573617a-5235-47b5-ab56-01e719a999b9",
   "metadata": {},
   "outputs": [
    {
     "data": {
      "text/plain": [
       "BenchmarkTools.Trial: 58 samples with 1 evaluation.\n",
       " Range \u001b[90m(\u001b[39m\u001b[36m\u001b[1mmin\u001b[22m\u001b[39m … \u001b[35mmax\u001b[39m\u001b[90m):  \u001b[39m\u001b[36m\u001b[1m74.853 ms\u001b[22m\u001b[39m … \u001b[35m102.722 ms\u001b[39m  \u001b[90m┊\u001b[39m GC \u001b[90m(\u001b[39mmin … max\u001b[90m): \u001b[39m 8.30% … 19.18%\n",
       " Time  \u001b[90m(\u001b[39m\u001b[34m\u001b[1mmedian\u001b[22m\u001b[39m\u001b[90m):     \u001b[39m\u001b[34m\u001b[1m85.978 ms               \u001b[22m\u001b[39m\u001b[90m┊\u001b[39m GC \u001b[90m(\u001b[39mmedian\u001b[90m):    \u001b[39m14.67%\n",
       " Time  \u001b[90m(\u001b[39m\u001b[32m\u001b[1mmean\u001b[22m\u001b[39m ± \u001b[32mσ\u001b[39m\u001b[90m):   \u001b[39m\u001b[32m\u001b[1m86.573 ms\u001b[22m\u001b[39m ± \u001b[32m  6.072 ms\u001b[39m  \u001b[90m┊\u001b[39m GC \u001b[90m(\u001b[39mmean ± σ\u001b[90m):  \u001b[39m15.35% ±  4.67%\n",
       "\n",
       "  \u001b[39m \u001b[39m \u001b[39m \u001b[39m \u001b[39m \u001b[39m \u001b[39m \u001b[39m \u001b[39m \u001b[39m \u001b[39m▃\u001b[39m \u001b[39m▃\u001b[39m \u001b[39m \u001b[39m \u001b[39m█\u001b[39m█\u001b[39m \u001b[39m▃\u001b[39m \u001b[39m \u001b[39m▃\u001b[39m▃\u001b[39m█\u001b[39m \u001b[39m \u001b[34m \u001b[39m\u001b[39m \u001b[39m \u001b[32m▃\u001b[39m\u001b[39m \u001b[39m \u001b[39m▃\u001b[39m▃\u001b[39m \u001b[39m \u001b[39m \u001b[39m \u001b[39m▃\u001b[39m \u001b[39m \u001b[39m \u001b[39m \u001b[39m▃\u001b[39m \u001b[39m▃\u001b[39m \u001b[39m \u001b[39m▃\u001b[39m \u001b[39m \u001b[39m \u001b[39m \u001b[39m \u001b[39m \u001b[39m \u001b[39m \u001b[39m \u001b[39m \u001b[39m \u001b[39m \n",
       "  \u001b[39m▇\u001b[39m▁\u001b[39m▁\u001b[39m▁\u001b[39m▁\u001b[39m▇\u001b[39m▇\u001b[39m▁\u001b[39m▇\u001b[39m▁\u001b[39m█\u001b[39m▁\u001b[39m█\u001b[39m▁\u001b[39m▇\u001b[39m▇\u001b[39m█\u001b[39m█\u001b[39m▇\u001b[39m█\u001b[39m▇\u001b[39m▁\u001b[39m█\u001b[39m█\u001b[39m█\u001b[39m▁\u001b[39m▇\u001b[34m▇\u001b[39m\u001b[39m▁\u001b[39m▇\u001b[32m█\u001b[39m\u001b[39m▇\u001b[39m▇\u001b[39m█\u001b[39m█\u001b[39m▇\u001b[39m▇\u001b[39m▁\u001b[39m▇\u001b[39m█\u001b[39m▇\u001b[39m▁\u001b[39m▁\u001b[39m▇\u001b[39m█\u001b[39m▁\u001b[39m█\u001b[39m▇\u001b[39m▇\u001b[39m█\u001b[39m▁\u001b[39m▁\u001b[39m▇\u001b[39m▁\u001b[39m▇\u001b[39m▁\u001b[39m▁\u001b[39m▁\u001b[39m▇\u001b[39m▇\u001b[39m \u001b[39m▁\n",
       "  74.9 ms\u001b[90m         Histogram: frequency by time\u001b[39m         98.3 ms \u001b[0m\u001b[1m<\u001b[22m\n",
       "\n",
       " Memory estimate\u001b[90m: \u001b[39m\u001b[33m110.21 MiB\u001b[39m, allocs estimate\u001b[90m: \u001b[39m\u001b[33m34929\u001b[39m."
      ]
     },
     "execution_count": 62,
     "metadata": {},
     "output_type": "execute_result"
    }
   ],
   "source": [
    "@benchmark out_serial = dijkstra_serial(graph_wrapper.graph)"
   ]
  },
  {
   "cell_type": "code",
   "execution_count": 63,
   "id": "afbbeb5b-7fcf-4742-8fc6-0f545b8ef8e1",
   "metadata": {},
   "outputs": [
    {
     "data": {
      "text/plain": [
       "BenchmarkTools.Trial: 142 samples with 1 evaluation.\n",
       " Range \u001b[90m(\u001b[39m\u001b[36m\u001b[1mmin\u001b[22m\u001b[39m … \u001b[35mmax\u001b[39m\u001b[90m):  \u001b[39m\u001b[36m\u001b[1m27.208 ms\u001b[22m\u001b[39m … \u001b[35m57.793 ms\u001b[39m  \u001b[90m┊\u001b[39m GC \u001b[90m(\u001b[39mmin … max\u001b[90m): \u001b[39m0.00% … 0.00%\n",
       " Time  \u001b[90m(\u001b[39m\u001b[34m\u001b[1mmedian\u001b[22m\u001b[39m\u001b[90m):     \u001b[39m\u001b[34m\u001b[1m32.345 ms              \u001b[22m\u001b[39m\u001b[90m┊\u001b[39m GC \u001b[90m(\u001b[39mmedian\u001b[90m):    \u001b[39m0.00%\n",
       " Time  \u001b[90m(\u001b[39m\u001b[32m\u001b[1mmean\u001b[22m\u001b[39m ± \u001b[32mσ\u001b[39m\u001b[90m):   \u001b[39m\u001b[32m\u001b[1m35.274 ms\u001b[22m\u001b[39m ± \u001b[32m 6.658 ms\u001b[39m  \u001b[90m┊\u001b[39m GC \u001b[90m(\u001b[39mmean ± σ\u001b[90m):  \u001b[39m1.41% ± 5.66%\n",
       "\n",
       "  \u001b[39m \u001b[39m \u001b[39m \u001b[39m▂\u001b[39m \u001b[39m█\u001b[39m \u001b[39m▁\u001b[39m▁\u001b[39m▄\u001b[39m▁\u001b[34m \u001b[39m\u001b[39m \u001b[39m \u001b[39m \u001b[39m \u001b[39m \u001b[32m \u001b[39m\u001b[39m \u001b[39m \u001b[39m \u001b[39m \u001b[39m \u001b[39m \u001b[39m \u001b[39m \u001b[39m \u001b[39m \u001b[39m \u001b[39m \u001b[39m \u001b[39m \u001b[39m \u001b[39m \u001b[39m \u001b[39m \u001b[39m \u001b[39m \u001b[39m \u001b[39m \u001b[39m \u001b[39m \u001b[39m \u001b[39m \u001b[39m \u001b[39m \u001b[39m \u001b[39m \u001b[39m \u001b[39m \u001b[39m \u001b[39m \u001b[39m \u001b[39m \u001b[39m \u001b[39m \u001b[39m \u001b[39m \u001b[39m \u001b[39m \u001b[39m \n",
       "  \u001b[39m▄\u001b[39m▆\u001b[39m▅\u001b[39m█\u001b[39m▆\u001b[39m█\u001b[39m█\u001b[39m█\u001b[39m█\u001b[39m█\u001b[39m█\u001b[34m▅\u001b[39m\u001b[39m▅\u001b[39m▄\u001b[39m▆\u001b[39m▄\u001b[39m▁\u001b[32m▃\u001b[39m\u001b[39m▁\u001b[39m▁\u001b[39m▃\u001b[39m▇\u001b[39m▃\u001b[39m▁\u001b[39m▄\u001b[39m▅\u001b[39m▅\u001b[39m▄\u001b[39m▄\u001b[39m▄\u001b[39m▄\u001b[39m▄\u001b[39m▃\u001b[39m▅\u001b[39m▄\u001b[39m▇\u001b[39m▃\u001b[39m▄\u001b[39m▃\u001b[39m▁\u001b[39m▅\u001b[39m▃\u001b[39m▁\u001b[39m▄\u001b[39m▁\u001b[39m▃\u001b[39m▁\u001b[39m▁\u001b[39m▁\u001b[39m▁\u001b[39m▃\u001b[39m▁\u001b[39m▁\u001b[39m▁\u001b[39m▁\u001b[39m▁\u001b[39m▁\u001b[39m▁\u001b[39m▃\u001b[39m \u001b[39m▃\n",
       "  27.2 ms\u001b[90m         Histogram: frequency by time\u001b[39m          56 ms \u001b[0m\u001b[1m<\u001b[22m\n",
       "\n",
       " Memory estimate\u001b[90m: \u001b[39m\u001b[33m2.63 MiB\u001b[39m, allocs estimate\u001b[90m: \u001b[39m\u001b[33m22500\u001b[39m."
      ]
     },
     "execution_count": 63,
     "metadata": {},
     "output_type": "execute_result"
    }
   ],
   "source": [
    "@benchmark out_parallel = dijkstra_distributed(\n",
    "    graph_wrapper.graph, \n",
    "    dict_arrays,\n",
    ")"
   ]
  },
  {
   "cell_type": "code",
   "execution_count": 64,
   "id": "7d2151bc-48bd-402f-8747-5bfdb9d2af64",
   "metadata": {},
   "outputs": [
    {
     "name": "stdout",
     "output_type": "stream",
     "text": [
      "out_serial = 4.430528995238097e6\n",
      "out_parallel = 4.430528995238097e6\n",
      "error fraction = 0.0\n"
     ]
    }
   ],
   "source": [
    "# there may be minor numerical differences\n",
    "error_frac = abs((out_parallel - out_serial)/out_serial)\n",
    "\n",
    "print(\"out_serial = $(out_serial)\\nout_parallel = $(out_parallel)\\nerror fraction = $(error_frac)\\n\")"
   ]
  },
  {
   "cell_type": "code",
   "execution_count": null,
   "id": "2599794f-08de-4648-ba0b-9ed446e516a3",
   "metadata": {},
   "outputs": [],
   "source": []
  }
 ],
 "metadata": {
  "kernelspec": {
   "display_name": "Julia 1.10.3",
   "language": "julia",
   "name": "julia-1.10"
  },
  "language_info": {
   "file_extension": ".jl",
   "mimetype": "application/julia",
   "name": "julia",
   "version": "1.10.3"
  }
 },
 "nbformat": 4,
 "nbformat_minor": 5
}
