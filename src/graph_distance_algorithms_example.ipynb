{
 "cells": [
  {
   "cell_type": "code",
   "execution_count": 1,
   "id": "d66d017d-6487-490b-8b6e-ab4af958fd8a",
   "metadata": {},
   "outputs": [
    {
     "name": "stderr",
     "output_type": "stream",
     "text": [
      "\u001b[32m\u001b[1m  Activating\u001b[22m\u001b[39m new project at `~/git/GraphDistanceAlgorithms.jl`\n"
     ]
    }
   ],
   "source": [
    "using Pkg\n",
    "Pkg.activate(\".\")\n",
    "\n",
    "# add projects\n",
    "Pkg.add(url=\"https://github.com/jcsyme/IterativeHeaps.jl\")\n",
    "Pkg.add(url=\"https://github.com/jcsyme/GraphDistanceAlgorithms.jl\")\n",
    "Pkg.add(url=\"https://github.com/jcsyme/GraphFragments.jl\")\n",
    "Pkg.add(url=\"https://github.com/jcsyme/DiscreteGraphAlgorithms.jl\")\n",
    "Pkg.add(\"BenchmarkTools\")\n"
   ]
  },
  {
   "cell_type": "markdown",
   "id": "c505790d-40fd-402f-af60-26f403af46bf",
   "metadata": {},
   "source": [
    "# Load Benchmarking and `Distributed`\n",
    "- `Distributed` package is required to take advantage of parallelization\n",
    "    - The `@everywhere` macro will be used below to ensure that parallelization can function using methods in each of the pacakges we need\n",
    "    - Use `Sys.CPU_THREADS` to see how many cores (physical and virtual) you have at your disposal\n",
    "- `BenchmarkTools` is used to compare performance"
   ]
  },
  {
   "cell_type": "code",
   "execution_count": 12,
   "id": "e30bc201-9223-4581-ac6e-7960c08bd977",
   "metadata": {},
   "outputs": [
    {
     "data": {
      "text/plain": [
       "10"
      ]
     },
     "execution_count": 12,
     "metadata": {},
     "output_type": "execute_result"
    }
   ],
   "source": [
    "Sys.CPU_THREADS"
   ]
  },
  {
   "cell_type": "code",
   "execution_count": 13,
   "id": "b5cd4bca-80f2-4245-be6f-f7e8e5db234a",
   "metadata": {},
   "outputs": [],
   "source": [
    "using BenchmarkTools \n",
    "using Distributed\n",
    "\n",
    "# add processes? the number of processes should be based on your system. You can use \n",
    "(nprocs() == 1) && addprocs(Sys.CPU_THREADS)\n",
    "\n",
    "# load using everywhere macro to make sure cores can recognize objects\n",
    "@everywhere using Graphs\n",
    "@everywhere using GraphDistanceAlgorithms\n",
    "@everywhere using GraphFragments"
   ]
  },
  {
   "cell_type": "code",
   "execution_count": 30,
   "id": "3d42be39-16a5-4da7-992b-a893da639f96",
   "metadata": {},
   "outputs": [
    {
     "data": {
      "text/latex": [
       "Calculate the fragmentation of a graph (KPP-Negative)\n",
       "\n",
       "\\section{Constructs}\n",
       "\\begin{verbatim}\n",
       "fragmentation(\n",
       "    graph::Union{AbstractGraph, Nothing}, \n",
       "    dict_arrays::Union{Dict{Symbol, Vector}, Dict{Symbol, DArray}, Nothing} = nothing;\n",
       "    D_invs::Union{Matrix{Int64}, Matrix{Float64}, Nothing} = nothing,\n",
       "    distance_algorithm::Symbol = :auto,\n",
       "    parallel_approach::Symbol = :auto,\n",
       "    use_distance_weighting::Bool = true,\n",
       "    kwargs...\n",
       ")\n",
       "\\end{verbatim}\n",
       "\\begin{verbatim}\n",
       "fragmentation(\n",
       "    adj::Union{SparseMatrixCSC{Float64, Int64}, Matrix{Float64}};;\n",
       "    kwargs...\n",
       ")\n",
       "\\end{verbatim}\n",
       "\\subsection{Function Arguments}\n",
       "\\begin{itemize}\n",
       "\\item \\texttt{graph}: graph on which to calculate fragmentation\n",
       "\n",
       "\n",
       "\\item \\texttt{dict\\_arrays}: optional dictionary mapping relevant algorithm keys to arrays–   DArrays, SharedArrays (not recommended unless size is very large), or    Vectors–storing intermediate calculations.\n",
       "\n",
       "\\begin{itemize}\n",
       "\\item Only effective if fixing \\texttt{distance\\_algorithm} to align with the arrays   that are passed\n",
       "\n",
       "\n",
       "\\item See ?GraphDistanceAlgorithms.spawn\\_arrays for more information on the    inputs required.\n",
       "\n",
       "\\end{itemize}\n",
       "\\end{itemize}\n",
       "\\subsection{Keyword Arguments}\n",
       "\\begin{itemize}\n",
       "\\item \\texttt{D\\_invs}: optional matrix (with 0 diagonal) of inverse distances. Passing    this optional argument can speed up calculations considerably.\n",
       "\n",
       "\\textbf{CAUTION} This function assumes that \\texttt{D\\_invs} is complete with 0s along        the diagonal.\n",
       "\n",
       "\n",
       "\\item \\texttt{distance\\_algorithm}: distance489503algorithm to use in computing distances. Called   if \\texttt{D\\_invs} is not specified\n",
       "\n",
       "\n",
       "\\item \\texttt{parallel\\_approach}: \\texttt{fragmentation} will automatically try to implement    parallel calculation if \\texttt{try\\_parallel(graph) == true}. \\texttt{parallel\\_approach}   can take one of three values:\n",
       "\n",
       "\\begin{itemize}\n",
       "\\item \\texttt{:auto}: choose based on \\texttt{try\\_parallel(graph)}\n",
       "\n",
       "\n",
       "\\item \\texttt{:parallel}: Force a parallel implementation (slower on small graphs)\n",
       "\n",
       "\n",
       "\\item \\texttt{:serial}: Force a serial implementation (slower on large graphs)\n",
       "\n",
       "\\end{itemize}\n",
       "\n",
       "\\item \\texttt{use\\_distance\\_weighting}: use distance-weigthed fragmentation? If False,    defaults to adjacency only. \n",
       "\n",
       "\n",
       "\\item \\texttt{kwargs...}: passed to distance algorithm. Include options for heap vectors    etc.\n",
       "\n",
       "\\end{itemize}\n"
      ],
      "text/markdown": [
       "Calculate the fragmentation of a graph (KPP-Negative)\n",
       "\n",
       "# Constructs\n",
       "\n",
       "```\n",
       "fragmentation(\n",
       "    graph::Union{AbstractGraph, Nothing}, \n",
       "    dict_arrays::Union{Dict{Symbol, Vector}, Dict{Symbol, DArray}, Nothing} = nothing;\n",
       "    D_invs::Union{Matrix{Int64}, Matrix{Float64}, Nothing} = nothing,\n",
       "    distance_algorithm::Symbol = :auto,\n",
       "    parallel_approach::Symbol = :auto,\n",
       "    use_distance_weighting::Bool = true,\n",
       "    kwargs...\n",
       ")\n",
       "```\n",
       "\n",
       "```\n",
       "fragmentation(\n",
       "    adj::Union{SparseMatrixCSC{Float64, Int64}, Matrix{Float64}};;\n",
       "    kwargs...\n",
       ")\n",
       "```\n",
       "\n",
       "## Function Arguments\n",
       "\n",
       "  * `graph`: graph on which to calculate fragmentation\n",
       "  * `dict_arrays`: optional dictionary mapping relevant algorithm keys to arrays–   DArrays, SharedArrays (not recommended unless size is very large), or    Vectors–storing intermediate calculations.\n",
       "\n",
       "      * Only effective if fixing `distance_algorithm` to align with the arrays   that are passed\n",
       "      * See ?GraphDistanceAlgorithms.spawn_arrays for more information on the    inputs required.\n",
       "\n",
       "## Keyword Arguments\n",
       "\n",
       "  * `D_invs`: optional matrix (with 0 diagonal) of inverse distances. Passing    this optional argument can speed up calculations considerably.\n",
       "\n",
       "    **CAUTION** This function assumes that `D_invs` is complete with 0s along        the diagonal.\n",
       "  * `distance_algorithm`: distance489503algorithm to use in computing distances. Called   if `D_invs` is not specified\n",
       "  * `parallel_approach`: `fragmentation` will automatically try to implement    parallel calculation if `try_parallel(graph) == true`. `parallel_approach`   can take one of three values:\n",
       "\n",
       "      * `:auto`: choose based on `try_parallel(graph)`\n",
       "      * `:parallel`: Force a parallel implementation (slower on small graphs)\n",
       "      * `:serial`: Force a serial implementation (slower on large graphs)\n",
       "  * `use_distance_weighting`: use distance-weigthed fragmentation? If False,    defaults to adjacency only.\n",
       "  * `kwargs...`: passed to distance algorithm. Include options for heap vectors    etc.\n"
      ],
      "text/plain": [
       "  Calculate the fragmentation of a graph (KPP-Negative)\n",
       "\n",
       "\u001b[1m  Constructs\u001b[22m\n",
       "\u001b[1m  ≡≡≡≡≡≡≡≡≡≡\u001b[22m\n",
       "\n",
       "\u001b[36m  fragmentation(\u001b[39m\n",
       "\u001b[36m      graph::Union{AbstractGraph, Nothing}, \u001b[39m\n",
       "\u001b[36m      dict_arrays::Union{Dict{Symbol, Vector}, Dict{Symbol, DArray}, Nothing} = nothing;\u001b[39m\n",
       "\u001b[36m      D_invs::Union{Matrix{Int64}, Matrix{Float64}, Nothing} = nothing,\u001b[39m\n",
       "\u001b[36m      distance_algorithm::Symbol = :auto,\u001b[39m\n",
       "\u001b[36m      parallel_approach::Symbol = :auto,\u001b[39m\n",
       "\u001b[36m      use_distance_weighting::Bool = true,\u001b[39m\n",
       "\u001b[36m      kwargs...\u001b[39m\n",
       "\u001b[36m  )\u001b[39m\n",
       "\n",
       "\u001b[36m  fragmentation(\u001b[39m\n",
       "\u001b[36m      adj::Union{SparseMatrixCSC{Float64, Int64}, Matrix{Float64}};;\u001b[39m\n",
       "\u001b[36m      kwargs...\u001b[39m\n",
       "\u001b[36m  )\u001b[39m\n",
       "\n",
       "\u001b[1m  Function Arguments\u001b[22m\n",
       "\u001b[1m  ==================\u001b[22m\n",
       "\n",
       "    •  \u001b[36mgraph\u001b[39m: graph on which to calculate fragmentation\n",
       "\n",
       "    •  \u001b[36mdict_arrays\u001b[39m: optional dictionary mapping relevant algorithm keys\n",
       "       to arrays– DArrays, SharedArrays (not recommended unless size is\n",
       "       very large), or Vectors–storing intermediate calculations.\n",
       "       • Only effective if fixing \u001b[36mdistance_algorithm\u001b[39m to align\n",
       "       with the arrays that are passed\n",
       "       • See ?GraphDistanceAlgorithms.spawn_arrays for more\n",
       "       information on the inputs required.\n",
       "\n",
       "\u001b[1m  Keyword Arguments\u001b[22m\n",
       "\u001b[1m  =================\u001b[22m\n",
       "\n",
       "    •  \u001b[36mD_invs\u001b[39m: optional matrix (with 0 diagonal) of inverse distances.\n",
       "       Passing this optional argument can speed up calculations\n",
       "       considerably.\n",
       "       \u001b[1mCAUTION\u001b[22m This function assumes that \u001b[36mD_invs\u001b[39m is complete with 0s\n",
       "       along the diagonal.\n",
       "\n",
       "    •  \u001b[36mdistance_algorithm\u001b[39m: distance489503algorithm to use in computing\n",
       "       distances. Called if \u001b[36mD_invs\u001b[39m is not specified\n",
       "\n",
       "    •  \u001b[36mparallel_approach\u001b[39m: \u001b[36mfragmentation\u001b[39m will automatically try to\n",
       "       implement parallel calculation if \u001b[36mtry_parallel(graph) == true\u001b[39m.\n",
       "       \u001b[36mparallel_approach\u001b[39m can take one of three values:\n",
       "       • \u001b[36m:auto\u001b[39m: choose based on \u001b[36mtry_parallel(graph)\u001b[39m\n",
       "       • \u001b[36m:parallel\u001b[39m: Force a parallel implementation (slower on\n",
       "       small graphs)\n",
       "       • \u001b[36m:serial\u001b[39m: Force a serial implementation (slower on large\n",
       "       graphs)\n",
       "\n",
       "    •  \u001b[36muse_distance_weighting\u001b[39m: use distance-weigthed fragmentation? If\n",
       "       False, defaults to adjacency only.\n",
       "\n",
       "    •  \u001b[36mkwargs...\u001b[39m: passed to distance algorithm. Include options for heap\n",
       "       vectors etc."
      ]
     },
     "execution_count": 30,
     "metadata": {},
     "output_type": "execute_result"
    }
   ],
   "source": [
    "?GraphFragments.fragmentation"
   ]
  },
  {
   "cell_type": "markdown",
   "id": "e15e3d81-5be3-4b53-90f6-041d42eb8e5a",
   "metadata": {},
   "source": [
    "# Let's try calculating fragmentation on some graphs\n"
   ]
  },
  {
   "cell_type": "code",
   "execution_count": 21,
   "id": "24944d69-d341-480d-acf4-a9283908f87b",
   "metadata": {},
   "outputs": [],
   "source": [
    "# generate a random graph and a wheel graph\n",
    "graph = Graphs.SimpleGraphs.random_regular_graph(5000, 5);\n",
    "graph_wheel = Graphs.SimpleGraphs.wheel_graph(1000);\n"
   ]
  },
  {
   "cell_type": "markdown",
   "id": "5cdc412a-9708-49d6-b0eb-1b57bfa8c6b7",
   "metadata": {},
   "source": []
  },
  {
   "cell_type": "code",
   "execution_count": 22,
   "id": "fc42d7c5-41d0-468b-aa32-4699ae385d58",
   "metadata": {
    "tags": []
   },
   "outputs": [
    {
     "data": {
      "text/plain": [
       "Dict{Symbol, DistributedArrays.DArray} with 6 entries:\n",
       "  :heap_data         => [0 0 … 0 0; 0 0 … 0 0; … ; 0 0 … 0 0; 0 0 … 0 0]\n",
       "  :parents           => [0 0 … 0 0; 0 0 … 0 0; … ; 0 0 … 0 0; 0 0 … 0 0]\n",
       "  :dists             => [0 0 … 0 0; 0 0 … 0 0; … ; 0 0 … 0 0; 0 0 … 0 0]\n",
       "  :heap_index        => [0 0 … 0 0; 0 0 … 0 0; … ; 0 0 … 0 0; 0 0 … 0 0]\n",
       "  :size              => [0 0 … 0 0]\n",
       "  :heap_index_lookup => [0 0 … 0 0; 0 0 … 0 0; … ; 0 0 … 0 0; 0 0 … 0 0]"
      ]
     },
     "execution_count": 22,
     "metadata": {},
     "output_type": "execute_result"
    }
   ],
   "source": []
  },
  {
   "cell_type": "markdown",
   "id": "25773700-40b8-441c-97bf-642d1111a69e",
   "metadata": {},
   "source": [
    "# Compare serial and distributed approach\n",
    "- Simple functions that iterate over each source vertex and calculate a metric\n"
   ]
  },
  {
   "cell_type": "markdown",
   "id": "08a65d54-e96a-4fd5-9da8-373b009109a0",
   "metadata": {},
   "source": [
    "###   Serial approach requires us to specify `parallel_approach = :serial`\n",
    "Run once to compile before benchmarking"
   ]
  },
  {
   "cell_type": "code",
   "execution_count": 42,
   "id": "a59888d2-02a5-4f14-8c6f-62aa08496657",
   "metadata": {},
   "outputs": [
    {
     "name": "stdout",
     "output_type": "stream",
     "text": [
      "  0.660518 seconds (94.54 k allocations: 408.978 MiB, 4.36% gc time)\n"
     ]
    },
    {
     "data": {
      "text/plain": [
       "0.8226992892864285"
      ]
     },
     "execution_count": 42,
     "metadata": {},
     "output_type": "execute_result"
    }
   ],
   "source": [
    "@time GraphFragments.fragmentation(graph, parallel_approach = :serial)"
   ]
  },
  {
   "cell_type": "code",
   "execution_count": 43,
   "id": "5e540120-121c-4a57-93e5-cca75bf3a2e5",
   "metadata": {},
   "outputs": [
    {
     "data": {
      "text/plain": [
       "BenchmarkTools.Trial: 9 samples with 1 evaluation per sample.\n",
       " Range \u001b[90m(\u001b[39m\u001b[36m\u001b[1mmin\u001b[22m\u001b[39m … \u001b[35mmax\u001b[39m\u001b[90m):  \u001b[39m\u001b[36m\u001b[1m583.475 ms\u001b[22m\u001b[39m … \u001b[35m648.969 ms\u001b[39m  \u001b[90m┊\u001b[39m GC \u001b[90m(\u001b[39mmin … max\u001b[90m): \u001b[39m1.32% … 5.37%\n",
       " Time  \u001b[90m(\u001b[39m\u001b[34m\u001b[1mmedian\u001b[22m\u001b[39m\u001b[90m):     \u001b[39m\u001b[34m\u001b[1m617.871 ms               \u001b[22m\u001b[39m\u001b[90m┊\u001b[39m GC \u001b[90m(\u001b[39mmedian\u001b[90m):    \u001b[39m2.99%\n",
       " Time  \u001b[90m(\u001b[39m\u001b[32m\u001b[1mmean\u001b[22m\u001b[39m ± \u001b[32mσ\u001b[39m\u001b[90m):   \u001b[39m\u001b[32m\u001b[1m613.355 ms\u001b[22m\u001b[39m ± \u001b[32m 22.219 ms\u001b[39m  \u001b[90m┊\u001b[39m GC \u001b[90m(\u001b[39mmean ± σ\u001b[90m):  \u001b[39m3.17% ± 1.30%\n",
       "\n",
       "  \u001b[39m█\u001b[39m \u001b[39m \u001b[39m█\u001b[39m \u001b[39m \u001b[39m \u001b[39m \u001b[39m \u001b[39m \u001b[39m \u001b[39m \u001b[39m \u001b[39m█\u001b[39m \u001b[39m \u001b[39m \u001b[34m█\u001b[39m\u001b[39m \u001b[39m \u001b[39m \u001b[39m \u001b[39m \u001b[39m \u001b[39m \u001b[39m \u001b[39m \u001b[39m \u001b[32m \u001b[39m\u001b[39m \u001b[39m \u001b[39m \u001b[39m█\u001b[39m█\u001b[39m \u001b[39m \u001b[39m \u001b[39m \u001b[39m \u001b[39m \u001b[39m \u001b[39m \u001b[39m \u001b[39m \u001b[39m█\u001b[39m█\u001b[39m \u001b[39m \u001b[39m \u001b[39m \u001b[39m \u001b[39m \u001b[39m \u001b[39m \u001b[39m \u001b[39m \u001b[39m \u001b[39m \u001b[39m \u001b[39m \u001b[39m█\u001b[39m \u001b[39m \n",
       "  \u001b[39m█\u001b[39m▁\u001b[39m▁\u001b[39m█\u001b[39m▁\u001b[39m▁\u001b[39m▁\u001b[39m▁\u001b[39m▁\u001b[39m▁\u001b[39m▁\u001b[39m▁\u001b[39m▁\u001b[39m█\u001b[39m▁\u001b[39m▁\u001b[39m▁\u001b[34m█\u001b[39m\u001b[39m▁\u001b[39m▁\u001b[39m▁\u001b[39m▁\u001b[39m▁\u001b[39m▁\u001b[39m▁\u001b[39m▁\u001b[39m▁\u001b[39m▁\u001b[32m▁\u001b[39m\u001b[39m▁\u001b[39m▁\u001b[39m▁\u001b[39m█\u001b[39m█\u001b[39m▁\u001b[39m▁\u001b[39m▁\u001b[39m▁\u001b[39m▁\u001b[39m▁\u001b[39m▁\u001b[39m▁\u001b[39m▁\u001b[39m▁\u001b[39m█\u001b[39m█\u001b[39m▁\u001b[39m▁\u001b[39m▁\u001b[39m▁\u001b[39m▁\u001b[39m▁\u001b[39m▁\u001b[39m▁\u001b[39m▁\u001b[39m▁\u001b[39m▁\u001b[39m▁\u001b[39m▁\u001b[39m▁\u001b[39m█\u001b[39m \u001b[39m▁\n",
       "  583 ms\u001b[90m           Histogram: frequency by time\u001b[39m          649 ms \u001b[0m\u001b[1m<\u001b[22m\n",
       "\n",
       " Memory estimate\u001b[90m: \u001b[39m\u001b[33m408.98 MiB\u001b[39m, allocs estimate\u001b[90m: \u001b[39m\u001b[33m94540\u001b[39m."
      ]
     },
     "execution_count": 43,
     "metadata": {},
     "output_type": "execute_result"
    }
   ],
   "source": [
    "@benchmark GraphFragments.fragmentation(graph, parallel_approach = :serial)"
   ]
  },
  {
   "cell_type": "markdown",
   "id": "a4257687-0657-4ab7-afb4-98a2f39a4fc4",
   "metadata": {},
   "source": [
    "###   To take advantage of parallelization, we should be explicit about the algorithm we're using and leverage cache arrays\n",
    "\n",
    "- It's better to be explicit and set `parallel_approach = :parallel`\n",
    "- Use `spawn_arrays` to prealocate array space for a graph `graph`\n",
    "    - allows for `DistributedArrays` (recommended) and `SharedArrays` (not-recommended, performs worse on most graphs)\n",
    "- This applies to fragmentation calculation and use of `DiscreteGraphAlgorithms` and `IterativeHeaps`\n",
    "- Call `spawn_arrays` to build a dictionary of pre-allocated, shared (accessible by different processes) arrays\n",
    "    - Default are `DistributedArrays`\n",
    "- Compile before benchmarking by running once"
   ]
  },
  {
   "cell_type": "code",
   "execution_count": 44,
   "id": "9b63703f-5fd8-4c36-a491-d4842909cbce",
   "metadata": {},
   "outputs": [
    {
     "name": "stdout",
     "output_type": "stream",
     "text": [
      "  0.270981 seconds (46.50 k allocations: 9.573 MiB)\n"
     ]
    },
    {
     "data": {
      "text/plain": [
       "0.8226992892864287"
      ]
     },
     "execution_count": 44,
     "metadata": {},
     "output_type": "execute_result"
    }
   ],
   "source": [
    "algo = :dijkstra_kary\n",
    "\n",
    "dict_arrays = spawn_arrays(graph, algo; )\n",
    "\n",
    "@time GraphFragments.fragmentation(\n",
    "    graph, \n",
    "    dict_arrays; \n",
    "    distance_algorithm = algo, \n",
    "    parallel_approach = :parallel,\n",
    ")"
   ]
  },
  {
   "cell_type": "markdown",
   "id": "51cc9ed3-9722-4d98-ad46-043e2a6226f7",
   "metadata": {},
   "source": [
    "**NOTE:** `dict_arrays` is shared and used to store intermediate calculations, including heap variables, parents, and distances. Its contents should not be modified."
   ]
  },
  {
   "cell_type": "code",
   "execution_count": 46,
   "id": "db6dc92d-a7dc-445d-93e3-75904182c416",
   "metadata": {},
   "outputs": [
    {
     "data": {
      "text/plain": [
       "BenchmarkTools.Trial: 22 samples with 1 evaluation per sample.\n",
       " Range \u001b[90m(\u001b[39m\u001b[36m\u001b[1mmin\u001b[22m\u001b[39m … \u001b[35mmax\u001b[39m\u001b[90m):  \u001b[39m\u001b[36m\u001b[1m231.993 ms\u001b[22m\u001b[39m … \u001b[35m243.487 ms\u001b[39m  \u001b[90m┊\u001b[39m GC \u001b[90m(\u001b[39mmin … max\u001b[90m): \u001b[39m0.00% … 0.00%\n",
       " Time  \u001b[90m(\u001b[39m\u001b[34m\u001b[1mmedian\u001b[22m\u001b[39m\u001b[90m):     \u001b[39m\u001b[34m\u001b[1m235.568 ms               \u001b[22m\u001b[39m\u001b[90m┊\u001b[39m GC \u001b[90m(\u001b[39mmedian\u001b[90m):    \u001b[39m0.00%\n",
       " Time  \u001b[90m(\u001b[39m\u001b[32m\u001b[1mmean\u001b[22m\u001b[39m ± \u001b[32mσ\u001b[39m\u001b[90m):   \u001b[39m\u001b[32m\u001b[1m236.406 ms\u001b[22m\u001b[39m ± \u001b[32m  3.396 ms\u001b[39m  \u001b[90m┊\u001b[39m GC \u001b[90m(\u001b[39mmean ± σ\u001b[90m):  \u001b[39m0.29% ± 0.75%\n",
       "\n",
       "  \u001b[39m▁\u001b[39m \u001b[39m \u001b[39m \u001b[39m▁\u001b[39m \u001b[39m█\u001b[39m█\u001b[39m \u001b[39m▁\u001b[39m▁\u001b[39m \u001b[39m▁\u001b[39m▁\u001b[39m \u001b[34m▁\u001b[39m\u001b[39m \u001b[39m \u001b[39m \u001b[39m \u001b[39m \u001b[39m \u001b[39m▁\u001b[32m \u001b[39m\u001b[39m▁\u001b[39m \u001b[39m \u001b[39m \u001b[39m▁\u001b[39m \u001b[39m \u001b[39m▁\u001b[39m \u001b[39m█\u001b[39m▁\u001b[39m \u001b[39m \u001b[39m \u001b[39m \u001b[39m \u001b[39m \u001b[39m▁\u001b[39m \u001b[39m \u001b[39m \u001b[39m \u001b[39m \u001b[39m \u001b[39m \u001b[39m \u001b[39m \u001b[39m \u001b[39m \u001b[39m \u001b[39m▁\u001b[39m▁\u001b[39m \u001b[39m \u001b[39m \u001b[39m \u001b[39m▁\u001b[39m \u001b[39m \n",
       "  \u001b[39m█\u001b[39m▁\u001b[39m▁\u001b[39m▁\u001b[39m█\u001b[39m▁\u001b[39m█\u001b[39m█\u001b[39m▁\u001b[39m█\u001b[39m█\u001b[39m▁\u001b[39m█\u001b[39m█\u001b[39m▁\u001b[34m█\u001b[39m\u001b[39m▁\u001b[39m▁\u001b[39m▁\u001b[39m▁\u001b[39m▁\u001b[39m▁\u001b[39m█\u001b[32m▁\u001b[39m\u001b[39m█\u001b[39m▁\u001b[39m▁\u001b[39m▁\u001b[39m█\u001b[39m▁\u001b[39m▁\u001b[39m█\u001b[39m▁\u001b[39m█\u001b[39m█\u001b[39m▁\u001b[39m▁\u001b[39m▁\u001b[39m▁\u001b[39m▁\u001b[39m▁\u001b[39m█\u001b[39m▁\u001b[39m▁\u001b[39m▁\u001b[39m▁\u001b[39m▁\u001b[39m▁\u001b[39m▁\u001b[39m▁\u001b[39m▁\u001b[39m▁\u001b[39m▁\u001b[39m▁\u001b[39m█\u001b[39m█\u001b[39m▁\u001b[39m▁\u001b[39m▁\u001b[39m▁\u001b[39m█\u001b[39m \u001b[39m▁\n",
       "  232 ms\u001b[90m           Histogram: frequency by time\u001b[39m          243 ms \u001b[0m\u001b[1m<\u001b[22m\n",
       "\n",
       " Memory estimate\u001b[90m: \u001b[39m\u001b[33m9.57 MiB\u001b[39m, allocs estimate\u001b[90m: \u001b[39m\u001b[33m46493\u001b[39m."
      ]
     },
     "execution_count": 46,
     "metadata": {},
     "output_type": "execute_result"
    }
   ],
   "source": [
    "@benchmark GraphFragments.fragmentation(\n",
    "    graph, \n",
    "    dict_arrays; \n",
    "    distance_algorithm = algo, \n",
    "    parallel_approach = :parallel,\n",
    ")"
   ]
  },
  {
   "cell_type": "markdown",
   "id": "e5bc4def-6a44-457e-b8e6-bc2823f399f6",
   "metadata": {},
   "source": [
    "# Next, let's compare fragmentation calculation on the wheel graph\n",
    "\n",
    "- Some graphs are relatively efficient in serial\n",
    "- 1000 node wheel graph is only _slightly_ faster in parallel"
   ]
  },
  {
   "cell_type": "code",
   "execution_count": 50,
   "id": "03a62550-c85e-49b0-84e8-066975e00d4a",
   "metadata": {},
   "outputs": [
    {
     "name": "stdout",
     "output_type": "stream",
     "text": [
      "  0.015406 seconds (16.54 k allocations: 20.390 MiB)\n"
     ]
    },
    {
     "data": {
      "text/plain": [
       "0.498"
      ]
     },
     "execution_count": 50,
     "metadata": {},
     "output_type": "execute_result"
    }
   ],
   "source": [
    "# serial\n",
    "@time GraphFragments.fragmentation(\n",
    "    parallel_approach = :serial\n",
    ")"
   ]
  },
  {
   "cell_type": "code",
   "execution_count": 55,
   "id": "bea3f484-212e-48d5-a77e-ff1a27c86d50",
   "metadata": {},
   "outputs": [
    {
     "data": {
      "text/plain": [
       "BenchmarkTools.Trial: 656 samples with 1 evaluation per sample.\n",
       " Range \u001b[90m(\u001b[39m\u001b[36m\u001b[1mmin\u001b[22m\u001b[39m … \u001b[35mmax\u001b[39m\u001b[90m):  \u001b[39m\u001b[36m\u001b[1m6.772 ms\u001b[22m\u001b[39m … \u001b[35m 13.325 ms\u001b[39m  \u001b[90m┊\u001b[39m GC \u001b[90m(\u001b[39mmin … max\u001b[90m): \u001b[39m0.00% … 48.20%\n",
       " Time  \u001b[90m(\u001b[39m\u001b[34m\u001b[1mmedian\u001b[22m\u001b[39m\u001b[90m):     \u001b[39m\u001b[34m\u001b[1m7.088 ms               \u001b[22m\u001b[39m\u001b[90m┊\u001b[39m GC \u001b[90m(\u001b[39mmedian\u001b[90m):    \u001b[39m0.00%\n",
       " Time  \u001b[90m(\u001b[39m\u001b[32m\u001b[1mmean\u001b[22m\u001b[39m ± \u001b[32mσ\u001b[39m\u001b[90m):   \u001b[39m\u001b[32m\u001b[1m7.623 ms\u001b[22m\u001b[39m ± \u001b[32m930.101 μs\u001b[39m  \u001b[90m┊\u001b[39m GC \u001b[90m(\u001b[39mmean ± σ\u001b[90m):  \u001b[39m7.73% ± 10.23%\n",
       "\n",
       "  \u001b[39m \u001b[39m \u001b[39m \u001b[39m▅\u001b[39m█\u001b[39m█\u001b[34m▁\u001b[39m\u001b[39m \u001b[39m \u001b[39m \u001b[39m \u001b[39m \u001b[39m \u001b[39m \u001b[39m \u001b[32m \u001b[39m\u001b[39m \u001b[39m \u001b[39m \u001b[39m \u001b[39m \u001b[39m \u001b[39m \u001b[39m \u001b[39m \u001b[39m \u001b[39m \u001b[39m \u001b[39m \u001b[39m \u001b[39m \u001b[39m \u001b[39m \u001b[39m \u001b[39m \u001b[39m \u001b[39m \u001b[39m \u001b[39m \u001b[39m \u001b[39m \u001b[39m \u001b[39m \u001b[39m \u001b[39m \u001b[39m \u001b[39m \u001b[39m \u001b[39m \u001b[39m \u001b[39m \u001b[39m \u001b[39m \u001b[39m \u001b[39m \u001b[39m \u001b[39m \u001b[39m \u001b[39m \u001b[39m \u001b[39m \n",
       "  \u001b[39m▃\u001b[39m▃\u001b[39m█\u001b[39m█\u001b[39m█\u001b[39m█\u001b[34m█\u001b[39m\u001b[39m▄\u001b[39m▃\u001b[39m▃\u001b[39m▂\u001b[39m▃\u001b[39m▂\u001b[39m▂\u001b[39m▂\u001b[32m▁\u001b[39m\u001b[39m▂\u001b[39m▂\u001b[39m▁\u001b[39m▂\u001b[39m▁\u001b[39m▁\u001b[39m▁\u001b[39m▁\u001b[39m▁\u001b[39m▂\u001b[39m▁\u001b[39m▁\u001b[39m▁\u001b[39m▁\u001b[39m▁\u001b[39m▂\u001b[39m▁\u001b[39m▃\u001b[39m▄\u001b[39m▆\u001b[39m▆\u001b[39m▆\u001b[39m▅\u001b[39m▃\u001b[39m▃\u001b[39m▃\u001b[39m▃\u001b[39m▃\u001b[39m▂\u001b[39m▂\u001b[39m▃\u001b[39m▁\u001b[39m▂\u001b[39m▂\u001b[39m▁\u001b[39m▂\u001b[39m▁\u001b[39m▁\u001b[39m▂\u001b[39m▂\u001b[39m▂\u001b[39m▁\u001b[39m▂\u001b[39m \u001b[39m▃\n",
       "  6.77 ms\u001b[90m         Histogram: frequency by time\u001b[39m          10 ms \u001b[0m\u001b[1m<\u001b[22m\n",
       "\n",
       " Memory estimate\u001b[90m: \u001b[39m\u001b[33m20.39 MiB\u001b[39m, allocs estimate\u001b[90m: \u001b[39m\u001b[33m16537\u001b[39m."
      ]
     },
     "execution_count": 55,
     "metadata": {},
     "output_type": "execute_result"
    }
   ],
   "source": [
    "@benchmark GraphFragments.fragmentation(\n",
    "    graph_wheel, \n",
    "    parallel_approach = :serial\n",
    ")"
   ]
  },
  {
   "cell_type": "code",
   "execution_count": 53,
   "id": "4833b9c4-2bcf-4dd7-b967-d0b3444ac868",
   "metadata": {},
   "outputs": [
    {
     "name": "stdout",
     "output_type": "stream",
     "text": [
      "  0.060686 seconds (6.21 k allocations: 1.864 MiB)\n"
     ]
    },
    {
     "data": {
      "text/plain": [
       "0.498"
      ]
     },
     "execution_count": 53,
     "metadata": {},
     "output_type": "execute_result"
    }
   ],
   "source": [
    "algo = :dijkstra_kary\n",
    "\n",
    "dict_arrays_wheel = spawn_arrays(graph_wheel, algo; )\n",
    "\n",
    "@time GraphFragments.fragmentation(\n",
    "    graph_wheel, \n",
    "    dict_arrays_wheel; \n",
    "    distance_algorithm = algo, \n",
    "    parallel_approach = :parallel,\n",
    ")"
   ]
  },
  {
   "cell_type": "code",
   "execution_count": 54,
   "id": "96e13124-8220-4cad-8c73-17d35afd88df",
   "metadata": {},
   "outputs": [
    {
     "data": {
      "text/plain": [
       "BenchmarkTools.Trial: 751 samples with 1 evaluation per sample.\n",
       " Range \u001b[90m(\u001b[39m\u001b[36m\u001b[1mmin\u001b[22m\u001b[39m … \u001b[35mmax\u001b[39m\u001b[90m):  \u001b[39m\u001b[36m\u001b[1m5.332 ms\u001b[22m\u001b[39m … \u001b[35m56.364 ms\u001b[39m  \u001b[90m┊\u001b[39m GC \u001b[90m(\u001b[39mmin … max\u001b[90m): \u001b[39m0.00% … 0.00%\n",
       " Time  \u001b[90m(\u001b[39m\u001b[34m\u001b[1mmedian\u001b[22m\u001b[39m\u001b[90m):     \u001b[39m\u001b[34m\u001b[1m5.560 ms              \u001b[22m\u001b[39m\u001b[90m┊\u001b[39m GC \u001b[90m(\u001b[39mmedian\u001b[90m):    \u001b[39m0.00%\n",
       " Time  \u001b[90m(\u001b[39m\u001b[32m\u001b[1mmean\u001b[22m\u001b[39m ± \u001b[32mσ\u001b[39m\u001b[90m):   \u001b[39m\u001b[32m\u001b[1m6.663 ms\u001b[22m\u001b[39m ± \u001b[32m 5.510 ms\u001b[39m  \u001b[90m┊\u001b[39m GC \u001b[90m(\u001b[39mmean ± σ\u001b[90m):  \u001b[39m1.35% ± 5.93%\n",
       "\n",
       "  \u001b[34m█\u001b[39m\u001b[39m▂\u001b[32m▁\u001b[39m\u001b[39m▂\u001b[39m▂\u001b[39m \u001b[39m \u001b[39m \u001b[39m \u001b[39m \u001b[39m \u001b[39m \u001b[39m \u001b[39m \u001b[39m \u001b[39m \u001b[39m \u001b[39m \u001b[39m \u001b[39m \u001b[39m \u001b[39m \u001b[39m \u001b[39m \u001b[39m \u001b[39m \u001b[39m \u001b[39m \u001b[39m \u001b[39m \u001b[39m \u001b[39m \u001b[39m \u001b[39m \u001b[39m \u001b[39m \u001b[39m \u001b[39m \u001b[39m \u001b[39m \u001b[39m \u001b[39m \u001b[39m \u001b[39m \u001b[39m \u001b[39m \u001b[39m \u001b[39m \u001b[39m \u001b[39m \u001b[39m \u001b[39m \u001b[39m \u001b[39m \u001b[39m \u001b[39m \u001b[39m \u001b[39m \u001b[39m \u001b[39m \n",
       "  \u001b[34m█\u001b[39m\u001b[39m█\u001b[32m█\u001b[39m\u001b[39m█\u001b[39m█\u001b[39m▇\u001b[39m▄\u001b[39m▁\u001b[39m▄\u001b[39m▁\u001b[39m▁\u001b[39m▁\u001b[39m▁\u001b[39m▁\u001b[39m▁\u001b[39m▁\u001b[39m▄\u001b[39m▁\u001b[39m▁\u001b[39m▁\u001b[39m▁\u001b[39m▁\u001b[39m▁\u001b[39m▁\u001b[39m▁\u001b[39m▁\u001b[39m▁\u001b[39m▁\u001b[39m▄\u001b[39m▁\u001b[39m▁\u001b[39m▁\u001b[39m▄\u001b[39m▁\u001b[39m▁\u001b[39m▁\u001b[39m▁\u001b[39m▁\u001b[39m▁\u001b[39m▁\u001b[39m▁\u001b[39m▁\u001b[39m▁\u001b[39m▁\u001b[39m▁\u001b[39m▄\u001b[39m▁\u001b[39m▁\u001b[39m▁\u001b[39m▁\u001b[39m▄\u001b[39m▁\u001b[39m▁\u001b[39m▁\u001b[39m▁\u001b[39m▁\u001b[39m▄\u001b[39m▄\u001b[39m \u001b[39m▇\n",
       "  5.33 ms\u001b[90m      \u001b[39m\u001b[90mHistogram: \u001b[39m\u001b[90m\u001b[1mlog(\u001b[22m\u001b[39m\u001b[90mfrequency\u001b[39m\u001b[90m\u001b[1m)\u001b[22m\u001b[39m\u001b[90m by time\u001b[39m       45 ms \u001b[0m\u001b[1m<\u001b[22m\n",
       "\n",
       " Memory estimate\u001b[90m: \u001b[39m\u001b[33m1.86 MiB\u001b[39m, allocs estimate\u001b[90m: \u001b[39m\u001b[33m6215\u001b[39m."
      ]
     },
     "execution_count": 54,
     "metadata": {},
     "output_type": "execute_result"
    }
   ],
   "source": [
    "@benchmark GraphFragments.fragmentation(\n",
    "    graph_wheel, \n",
    "    dict_arrays_wheel; \n",
    "    distance_algorithm = algo, \n",
    "    parallel_approach = :parallel,\n",
    ")"
   ]
  },
  {
   "cell_type": "markdown",
   "id": "67814bfd-a05c-4afd-9174-36e5f56077dd",
   "metadata": {},
   "source": [
    "# Try different algorithms"
   ]
  },
  {
   "cell_type": "code",
   "execution_count": null,
   "id": "c3a2250b-501c-47a4-8513-5f84a30d077a",
   "metadata": {},
   "outputs": [],
   "source": []
  },
  {
   "cell_type": "code",
   "execution_count": null,
   "id": "7a9541b7-ef63-4616-8052-92cfebd21014",
   "metadata": {},
   "outputs": [],
   "source": []
  },
  {
   "cell_type": "code",
   "execution_count": null,
   "id": "0ad921c6-6073-44c2-8300-ddaf91bb9a2d",
   "metadata": {},
   "outputs": [],
   "source": []
  },
  {
   "cell_type": "code",
   "execution_count": null,
   "id": "3cae5dad-4a06-4f23-84e0-b2d8eb2b0443",
   "metadata": {},
   "outputs": [],
   "source": []
  },
  {
   "cell_type": "code",
   "execution_count": null,
   "id": "8a8ab60e-f924-47aa-9b51-7c25c82030f5",
   "metadata": {},
   "outputs": [],
   "source": []
  },
  {
   "cell_type": "code",
   "execution_count": null,
   "id": "47598f3b-ab16-4819-8e87-08be48b28a4c",
   "metadata": {},
   "outputs": [],
   "source": []
  },
  {
   "cell_type": "code",
   "execution_count": null,
   "id": "839e489d-15f2-4756-bdd8-de79808b02e6",
   "metadata": {},
   "outputs": [],
   "source": []
  },
  {
   "cell_type": "code",
   "execution_count": null,
   "id": "f70d96b9-0d04-4be3-ac8a-a035a72884ec",
   "metadata": {},
   "outputs": [],
   "source": []
  }
 ],
 "metadata": {
  "kernelspec": {
   "display_name": "Julia 1.10.5",
   "language": "julia",
   "name": "julia-1.10"
  },
  "language_info": {
   "file_extension": ".jl",
   "mimetype": "application/julia",
   "name": "julia",
   "version": "1.10.5"
  }
 },
 "nbformat": 4,
 "nbformat_minor": 5
}
